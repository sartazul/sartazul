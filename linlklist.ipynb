{
 "cells": [
  {
   "cell_type": "code",
   "execution_count": 61,
   "metadata": {},
   "outputs": [
    {
     "name": "stdout",
     "output_type": "stream",
     "text": [
      "30  \n",
      "15  \n",
      "20  \n",
      "1  \n",
      "2  \n",
      "3  \n",
      "5  \n",
      "8  \n",
      "5  \n",
      "55  \n",
      "9\n"
     ]
    }
   ],
   "source": []
  },
  {
   "cell_type": "code",
   "execution_count": null,
   "metadata": {},
   "outputs": [],
   "source": []
  },
  {
   "cell_type": "code",
   "execution_count": 7,
   "metadata": {},
   "outputs": [
    {
     "name": "stdout",
     "output_type": "stream",
     "text": [
      "abc\n",
      "acb\n",
      "bac\n",
      "bca\n",
      "cab\n",
      "cba\n"
     ]
    }
   ],
   "source": [
    "def prp(que,asf):\n",
    "    if(len(que)==0):\n",
    "        print(asf)\n",
    "        return\n",
    "    for i in range(0,len(que)):\n",
    "        ch = que[i:i+1]\n",
    "        sl = que[0:i]\n",
    "        sr = que[i+1:]\n",
    "        ros = sl+sr\n",
    "        prp(ros,asf+ch)\n",
    "que = \"abc\"\n",
    "asf = ''\n",
    "prp(que,asf)     "
   ]
  },
  {
   "cell_type": "code",
   "execution_count": 15,
   "metadata": {},
   "outputs": [
    {
     "name": "stdout",
     "output_type": "stream",
     "text": [
      " 45 77 58\n"
     ]
    },
    {
     "data": {
      "text/plain": [
       "3"
      ]
     },
     "execution_count": 15,
     "metadata": {},
     "output_type": "execute_result"
    }
   ],
   "source": [
    "class Node:\n",
    "    def __init__(self,data = None,next = None):\n",
    "        self.data = data\n",
    "        self.next = next\n",
    "class linklist:\n",
    "    def __init__(self):\n",
    "        self.head = None\n",
    "    def insert_at_begining(self,data):\n",
    "        node = Node(data,self.head)\n",
    "        self.head = node\n",
    "    def prin(self):\n",
    "        if self.head is None:\n",
    "            print(\"list is empty\")\n",
    "            return\n",
    "        itr=self.head\n",
    "        lis = ''\n",
    "        while itr:\n",
    "            lis = lis +\" \"+ str(itr.data)\n",
    "            itr = itr.next\n",
    "        print(lis)\n",
    "    def size(self):\n",
    "        count = 0\n",
    "        itr = self.head\n",
    "        while itr:\n",
    "            count = count + 1\n",
    "            itr = itr.next\n",
    "        return count\n",
    "    def insert_at_end(self,data):\n",
    "        if self.head is None:\n",
    "            self.head = Node(data,None)\n",
    "            return\n",
    "        itr = self.head\n",
    "        while itr.next:\n",
    "            itr = itr.next\n",
    "        itr.next = Node(data,None)\n",
    "    def insert_at_index(self,data,index):\n",
    "        if index < 0 or index > self.size():\n",
    "            return \"invaled keys\"\n",
    "        if index ==0:\n",
    "            insert_at_begining(data)\n",
    "            return\n",
    "        count = 0\n",
    "        itr = self.head\n",
    "        while itr:\n",
    "            if count == index-1:\n",
    "                node = Node(data,itr.next)\n",
    "                itr.next = node\n",
    "                break\n",
    "            itr = itr.next\n",
    "            count = count+1\n",
    "    def insert_by_value(self,data_after,data_to_insert):\n",
    "        if self.head is None:\n",
    "            return \"list is empety\"\n",
    "        if self.head.data == data_after:\n",
    "            self.head.next = Node(data_to_insert,self.head.next)\n",
    "            return\n",
    "        itr = self.head\n",
    "        while itr.next:\n",
    "            if itr.data == data_after:\n",
    "                itr.next =Node(data_to_next,itr.next)\n",
    "                break\n",
    "            itr = itr.next\n",
    "    def remove_at(self,index):\n",
    "        if index<0 and self.size()<index:\n",
    "            return \"invalid in put\"\n",
    "        if index == 0:\n",
    "            self.head = self.head.next\n",
    "            return\n",
    "        count = 0\n",
    "        itr = self.head\n",
    "        while itr:\n",
    "            if count == index-1:\n",
    "                itr.next = itr.next.next\n",
    "                break\n",
    "            itr = itr.next\n",
    "            count = count+1\n",
    "    def remove_by_value(self,value):\n",
    "        if self.head is None:\n",
    "            return \"linklist is empty\"\n",
    "        if self.head.data == value:\n",
    "            self.head = self.head.next\n",
    "            return\n",
    "        itr = self.head\n",
    "        while itr.next:\n",
    "            if itr.next.data == value:\n",
    "                itr.next = itr.next.next\n",
    "                break\n",
    "            itr = itr.next\n",
    "l = linklist()\n",
    "l.insert_at_begining(45)\n",
    "l.insert_at_begining(75)\n",
    "l.insert_at_end(58)\n",
    "l.insert_at_index(55,1)\n",
    "l.remove_at(1)\n",
    "l.remove_by_value(75)\n",
    "l.insert_by_value(45,77)\n",
    "l.prin()\n",
    "l.size()\n"
   ]
  },
  {
   "cell_type": "code",
   "execution_count": null,
   "metadata": {},
   "outputs": [],
   "source": []
  },
  {
   "cell_type": "code",
   "execution_count": null,
   "metadata": {},
   "outputs": [],
   "source": []
  },
  {
   "cell_type": "code",
   "execution_count": null,
   "metadata": {},
   "outputs": [],
   "source": []
  },
  {
   "cell_type": "code",
   "execution_count": null,
   "metadata": {},
   "outputs": [],
   "source": []
  },
  {
   "cell_type": "code",
   "execution_count": null,
   "metadata": {},
   "outputs": [],
   "source": []
  },
  {
   "cell_type": "code",
   "execution_count": null,
   "metadata": {},
   "outputs": [],
   "source": []
  }
 ],
 "metadata": {
  "kernelspec": {
   "display_name": "Python 3",
   "language": "python",
   "name": "python3"
  },
  "language_info": {
   "codemirror_mode": {
    "name": "ipython",
    "version": 3
   },
   "file_extension": ".py",
   "mimetype": "text/x-python",
   "name": "python",
   "nbconvert_exporter": "python",
   "pygments_lexer": "ipython3",
   "version": "3.7.4"
  }
 },
 "nbformat": 4,
 "nbformat_minor": 2
}
